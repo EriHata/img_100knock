{
 "cells": [
  {
   "cell_type": "markdown",
   "metadata": {},
   "source": [
    "### ガボールフィルタ"
   ]
  },
  {
   "cell_type": "code",
   "execution_count": 1,
   "metadata": {},
   "outputs": [],
   "source": [
    "import cv2\n",
    "import numpy as np\n",
    "import matplotlib.pyplot as plt\n",
    "%matplotlib inline\n",
    "\n",
    "# Gabor\n",
    "def gabor_filter(K_size=111, sigma=10, gamma=1.2, Lambda=10,  psi=0, angle=0):\n",
    "    #get half size\n",
    "    d = K_size//2\n",
    "    \n",
    "    # prepare kernel\n",
    "    gabor = np.zeros((K_size, K_size), dtype=np.float32)\n",
    "    \n",
    "    # each value\n",
    "    for y in range(K_size):\n",
    "        for x in range(K_size):\n",
    "            # distance from center\n",
    "            px = x - d\n",
    "            py = y - d\n",
    "            \n",
    "            # degree -> radian\n",
    "            theta = angle/180.*np.pi\n",
    "            \n",
    "            # get kernel x\n",
    "            _x = np.cos(theta)*px + np.sin(theta)*py\n",
    "            # get kernel y\n",
    "            _y = -np.sin(theta)*px + np.cos(theta)*py\n",
    "            \n",
    "            # fill kernel\n",
    "            gabor[y,x] = np.exp(-(_x**2+gamma**2*_y**2) / (2*sigma**2)) * np.cos(2*np.pi*_x/Lambda + psi)\n",
    "            \n",
    "            \n",
    "    # kernel normalization\n",
    "    gabor /= np.sum(np.abs(gabor))\n",
    "    \n",
    "    return gabor\n",
    "\n",
    "\n",
    "            "
   ]
  },
  {
   "cell_type": "code",
   "execution_count": 4,
   "metadata": {},
   "outputs": [
    {
     "data": {
      "text/plain": [
       "True"
      ]
     },
     "execution_count": 4,
     "metadata": {},
     "output_type": "execute_result"
    },
    {
     "data": {
      "image/png": "[encoded data removed]",
      "text/plain": [
       "<Figure size 432x288 with 1 Axes>"
      ]
     },
     "metadata": {
      "needs_background": "light"
     },
     "output_type": "display_data"
    }
   ],
   "source": [
    "# get gabor kernel\n",
    "gabor = gabor_filter(K_size=111, sigma=10, gamma=1.2, Lambda=10, psi=0, angle=0)\n",
    "\n",
    "# visualize\n",
    "# normalize to [0,255]\n",
    "out = gabor - np.min(gabor)\n",
    "out = out/out.max() * 255\n",
    "out = out.astype(np.uint8)\n",
    "\n",
    "plt.imshow(out, cmap='gray')\n",
    "cv2.imwrite('out77.jpg', out)\n"
   ]
  },
  {
   "cell_type": "code",
   "execution_count": 3,
   "metadata": {},
   "outputs": [
    {
     "data": {
      "text/plain": [
       "True"
      ]
     },
     "execution_count": 3,
     "metadata": {},
     "output_type": "execute_result"
    },
    {
     "data": {
      "image/png": "[encoded data removed]",
      "text/plain": [
       "<Figure size 432x288 with 1 Axes>"
      ]
     },
     "metadata": {
      "needs_background": "light"
     },
     "output_type": "display_data"
    }
   ],
   "source": [
    "import cv2\n",
    "import numpy as np\n",
    "import matplotlib.pyplot as plt\n",
    "\n",
    "# Gabor\n",
    "def Gabor_filter(K_size=111, Sigma=10, Gamma=1.2, Lambda=10, Psi=0, angle=0):\n",
    "\t# get half size\n",
    "\td = K_size // 2\n",
    "\n",
    "\t# prepare kernel\n",
    "\tgabor = np.zeros((K_size, K_size), dtype=np.float32)\n",
    "\n",
    "\t# each value\n",
    "\tfor y in range(K_size):\n",
    "\t\tfor x in range(K_size):\n",
    "\t\t\t# distance from center\n",
    "\t\t\tpx = x - d\n",
    "\t\t\tpy = y - d\n",
    "\n",
    "\t\t\t# degree -> radian\n",
    "\t\t\ttheta = angle / 180. * np.pi\n",
    "\n",
    "\t\t\t# get kernel x\n",
    "\t\t\t_x = np.cos(theta) * px + np.sin(theta) * py\n",
    "\n",
    "\t\t\t# get kernel y\n",
    "\t\t\t_y = -np.sin(theta) * px + np.cos(theta) * py\n",
    "\n",
    "\t\t\t# fill kernel\n",
    "\t\t\tgabor[y, x] = np.exp(-(_x**2 + Gamma**2 * _y**2) / (2 * Sigma**2)) * np.cos(2*np.pi*_x/Lambda + Psi)\n",
    "\n",
    "\t# kernel normalization\n",
    "\tgabor /= np.sum(np.abs(gabor))\n",
    "\n",
    "\treturn gabor\n",
    "\n",
    "\n",
    "# get gabor kernel\n",
    "gabor = Gabor_filter(K_size=111, Sigma=10, Gamma=1.2, Lambda=10, Psi=0, angle=0)\n",
    "\n",
    "# Visualize\n",
    "# normalize to [0, 255]\n",
    "out = gabor - np.min(gabor)\n",
    "out /= np.max(out)\n",
    "out *= 255\n",
    "\n",
    "plt.imshow(out, cmap='gray')\n",
    "cv2.imwrite('out77.jpg', out)"
   ]
  },
  {
   "cell_type": "code",
   "execution_count": null,
   "metadata": {},
   "outputs": [],
   "source": []
  }
 ],
 "metadata": {
  "kernelspec": {
   "display_name": "Python 3",
   "language": "python",
   "name": "python3"
  },
  "language_info": {
   "codemirror_mode": {
    "name": "ipython",
    "version": 3
   },
   "file_extension": ".py",
   "mimetype": "text/x-python",
   "name": "python",
   "nbconvert_exporter": "python",
   "pygments_lexer": "ipython3",
   "version": "3.8.2"
  }
 },
 "nbformat": 4,
 "nbformat_minor": 4
}
