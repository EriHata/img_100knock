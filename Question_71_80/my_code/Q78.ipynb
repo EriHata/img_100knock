{
 "cells": [
  {
   "cell_type": "markdown",
   "metadata": {},
   "source": [
    "### ガボールフィルタの回転"
   ]
  },
  {
   "cell_type": "code",
   "execution_count": 1,
   "metadata": {},
   "outputs": [],
   "source": [
    "import cv2\n",
    "import numpy as np\n",
    "import matplotlib.pyplot as plt\n",
    "%matplotlib inline\n",
    "\n",
    "# Gabor\n",
    "def gabor_filter(K_size=111, sigma=10, gamma=1.2, Lambda=10,  psi=0, angle=0):\n",
    "    #get half size\n",
    "    d = K_size//2\n",
    "    \n",
    "    # prepare kernel\n",
    "    gabor = np.zeros((K_size, K_size), dtype=np.float32)\n",
    "    \n",
    "    # each value\n",
    "    for y in range(K_size):\n",
    "        for x in range(K_size):\n",
    "            # distance from center\n",
    "            px = x - d\n",
    "            py = y - d\n",
    "            \n",
    "            # degree -> radian\n",
    "            theta = angle/180.*np.pi\n",
    "            \n",
    "            # get kernel x\n",
    "            _x = np.cos(theta)*px + np.sin(theta)*py\n",
    "            # get kernel y\n",
    "            _y = -np.sin(theta)*px + np.cos(theta)*py\n",
    "            \n",
    "            # fill kernel\n",
    "            gabor[y,x] = np.exp(-(_x**2+gamma**2*_y**2) / (2*sigma**2)) * np.cos(2*np.pi*_x/Lambda + psi)\n",
    "            \n",
    "            \n",
    "    # kernel normalization\n",
    "    gabor /= np.sum(np.abs(gabor))\n",
    "    \n",
    "    return gabor\n",
    "\n",
    "\n"
   ]
  },
  {
   "cell_type": "code",
   "execution_count": 8,
   "metadata": {},
   "outputs": [
    {
     "ename": "TypeError",
     "evalue": "imshow() missing 1 required positional argument: 'X'",
     "output_type": "error",
     "traceback": [
      "\u001b[0;31m---------------------------------------------------------------------------\u001b[0m",
      "\u001b[0;31mTypeError\u001b[0m                                 Traceback (most recent call last)",
      "\u001b[0;32m<ipython-input-8-52e5bd881220>\u001b[0m in \u001b[0;36m<module>\u001b[0;34m\u001b[0m\n\u001b[1;32m     20\u001b[0m     \u001b[0mcv2\u001b[0m\u001b[0;34m.\u001b[0m\u001b[0mimwrite\u001b[0m\u001b[0;34m(\u001b[0m\u001b[0;34mf'out78_{i}.jpg'\u001b[0m\u001b[0;34m,\u001b[0m \u001b[0mout\u001b[0m\u001b[0;34m)\u001b[0m\u001b[0;34m\u001b[0m\u001b[0;34m\u001b[0m\u001b[0m\n\u001b[1;32m     21\u001b[0m \u001b[0;34m\u001b[0m\u001b[0m\n\u001b[0;32m---> 22\u001b[0;31m \u001b[0mplt\u001b[0m\u001b[0;34m.\u001b[0m\u001b[0mimshow\u001b[0m\u001b[0;34m(\u001b[0m\u001b[0;34m)\u001b[0m\u001b[0;34m\u001b[0m\u001b[0;34m\u001b[0m\u001b[0m\n\u001b[0m",
      "\u001b[0;31mTypeError\u001b[0m: imshow() missing 1 required positional argument: 'X'"
     ]
    },
    {
     "data": {
      "image/png": "[encoded data removed]",
      "text/plain": [
       "<Figure size 432x288 with 4 Axes>"
      ]
     },
     "metadata": {
      "needs_background": "light"
     },
     "output_type": "display_data"
    }
   ],
   "source": [
    "As = [0,45, 90, 135]\n",
    "\n",
    "# prepare pyplot\n",
    "plt.subplots_adjust(left=0, right=1, top=1, bottom=0, hspace=0, wspace=0.2)\n",
    "\n",
    "# each angle\n",
    "for i,A in enumerate(As):\n",
    "    gabor = gabor_filter(K_size=111, sigma=10, gamma=1.2, Lambda=10,  psi=0, angle=A)\n",
    "    \n",
    "    # normalize\n",
    "    out = gabor - np.min(gabor)\n",
    "    out = out/np.max(out) * 255\n",
    "    out = out.astype(np.uint8)\n",
    "    \n",
    "    # subplot\n",
    "    plt.subplot(1,4,i+1)\n",
    "    plt.imshow(out, cmap='gray')\n",
    "    plt.axis('off')\n",
    "    plt.title('Angle '+str(A))\n",
    "    cv2.imwrite(f'out78_{i}.jpg', out)\n",
    "    \n",
    "plt.imshow()"
   ]
  },
  {
   "cell_type": "code",
   "execution_count": null,
   "metadata": {},
   "outputs": [],
   "source": []
  }
 ],
 "metadata": {
  "kernelspec": {
   "display_name": "Python 3",
   "language": "python",
   "name": "python3"
  },
  "language_info": {
   "codemirror_mode": {
    "name": "ipython",
    "version": 3
   },
   "file_extension": ".py",
   "mimetype": "text/x-python",
   "name": "python",
   "nbconvert_exporter": "python",
   "pygments_lexer": "ipython3",
   "version": "3.8.2"
  }
 },
 "nbformat": 4,
 "nbformat_minor": 4
}
