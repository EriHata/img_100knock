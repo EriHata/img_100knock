{
 "cells": [
  {
   "cell_type": "markdown",
   "metadata": {},
   "source": [
    "### ガウシアンピラミッド"
   ]
  },
  {
   "cell_type": "code",
   "execution_count": 6,
   "metadata": {},
   "outputs": [],
   "source": [
    "import cv2\n",
    "import numpy as np\n",
    "import matplotlib.pyplot as plt\n",
    "%matplotlib inline\n",
    "\n",
    "# BGR -> GRAY\n",
    "def BGR2GRAY(img):\n",
    "    gray = 0.2126 * img[..., 2] + 0.7152 * img[..., 1] + 0.0722 * img[..., 0]\n",
    "    return gray\n",
    "\n",
    "# Bi-Linear interpolation\n",
    "def bl_interpolation(img, ax=1., ay=1.):\n",
    "    if len(img.shape) >2:\n",
    "        H, W, C = img.shape\n",
    "        \n",
    "    else:\n",
    "        H, W = img.shape\n",
    "        C = 1\n",
    "        \n",
    "    aH = int(ay*H)\n",
    "    aW = int(ax*W)\n",
    "    \n",
    "    # get position of resize image\n",
    "    y = np.arange(aH).repeat(aW).reshape(aW, -1)\n",
    "    x = np.tile(np.arange(aW), (aH, 1))\n",
    "    \n",
    "    # get position of  original position\n",
    "    y = (y/ay)\n",
    "    x = (x/ax)\n",
    "    \n",
    "    ix = np.floor(x).astype(np.int)  # 切り捨て\n",
    "    iy = np.floor(y).astype(np.int)\n",
    "    \n",
    "    ix = np.minimum(ix, W-2)  # W-2を超えないように調節　なぜ？\n",
    "    iy = np.minimum(iy, H-2)\n",
    "    \n",
    "    # get distence\n",
    "    dx = x - ix\n",
    "    dy = y - iy\n",
    "    \n",
    "    # ３次元画像の場合は3次元に修正\n",
    "    if C>1:\n",
    "        dx =  np.repeat(np.expand_dims(dx, axis=-1), C, axis=-1)\n",
    "        dy =  np.repeat(np.expand_dims(dy, axis=-1), C, axis=-1)\n",
    "    \n",
    "    # interpolation\n",
    "    out = (1-dx) * (1-dy) * img[iy, ix] + (dx)*(1-dy)*img[iy, ix+1] + (1-dx)*dy*img[iy+1, ix] + dy*dx*img[iy+1, ix+1]\n",
    "    \n",
    "    out = np.clip(out, 0, 255)\n",
    "    out = out.astype(np.uint8)\n",
    "    \n",
    "    return out\n",
    "\n",
    "\n",
    "def make_pyramid(gray):\n",
    "    # first element\n",
    "    pyramid = [gray]\n",
    "    \n",
    "    # each scale\n",
    "    for i in range(1,6):\n",
    "        # define scale\n",
    "        a = 2.**i\n",
    "        \n",
    "        # down scale\n",
    "        p =bl_interpolation(gray, ax=1./a, ay=1./a)\n",
    "        \n",
    "        # add pylamid list\n",
    "        pyramid.append(p)\n",
    "        \n",
    "    return pyramid\n"
   ]
  },
  {
   "cell_type": "code",
   "execution_count": 11,
   "metadata": {},
   "outputs": [
    {
     "data": {
      "image/png": "[encoded data removed]",
      "text/plain": [
       "<Figure size 432x288 with 6 Axes>"
      ]
     },
     "metadata": {
      "needs_background": "light"
     },
     "output_type": "display_data"
    }
   ],
   "source": [
    "img = cv2.imread('../imori.jpg')\n",
    "gray = BGR2GRAY(img)\n",
    "\n",
    "pyramid = make_pyramid(gray)\n",
    "\n",
    "for i in range(6):\n",
    "    plt.subplot(6,1,i+1)\n",
    "    plt.imshow(pyramid[i], cmap='gray')\n",
    "    cv2.imwrite(f'out75_{i}.jpg', pyramid[i])\n",
    "    \n",
    "plt.show()"
   ]
  },
  {
   "cell_type": "code",
   "execution_count": null,
   "metadata": {},
   "outputs": [],
   "source": []
  }
 ],
 "metadata": {
  "kernelspec": {
   "display_name": "Python 3",
   "language": "python",
   "name": "python3"
  },
  "language_info": {
   "codemirror_mode": {
    "name": "ipython",
    "version": 3
   },
   "file_extension": ".py",
   "mimetype": "text/x-python",
   "name": "python",
   "nbconvert_exporter": "python",
   "pygments_lexer": "ipython3",
   "version": "3.8.2"
  }
 },
 "nbformat": 4,
 "nbformat_minor": 4
}
