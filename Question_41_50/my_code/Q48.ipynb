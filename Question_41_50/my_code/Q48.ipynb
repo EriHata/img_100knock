{
 "cells": [
  {
   "cell_type": "markdown",
   "metadata": {},
   "source": [
    "## モルフォロジー処理(収縮)"
   ]
  },
  {
   "cell_type": "code",
   "execution_count": 8,
   "metadata": {},
   "outputs": [],
   "source": [
    "import cv2\n",
    "import numpy as np\n",
    "import matplotlib.pyplot as plt\n",
    "%matplotlib inline\n",
    "\n",
    "\n",
    "# Gray scale\n",
    "def BGR2GRAY(img):\n",
    "\tb = img[:, :, 0].copy()\n",
    "\tg = img[:, :, 1].copy()\n",
    "\tr = img[:, :, 2].copy()\n",
    "\n",
    "\t# Gray scale\n",
    "\tout = 0.2126 * r + 0.7152 * g + 0.0722 * b\n",
    "\tout = out.astype(np.uint8)\n",
    "\n",
    "\treturn out\n",
    "\n",
    "# Otsu Binalization\n",
    "def otsu_binarization(img, th=128):\n",
    "\tH, W = img.shape\n",
    "\tout = img.copy()\n",
    "\n",
    "\tmax_sigma = 0\n",
    "\tmax_t = 0\n",
    "\n",
    "\t# determine threshold\n",
    "\tfor _t in range(1, 255):\n",
    "\t\tv0 = out[np.where(out < _t)]\n",
    "\t\tm0 = np.mean(v0) if len(v0) > 0 else 0.\n",
    "\t\tw0 = len(v0) / (H * W)\n",
    "\t\tv1 = out[np.where(out >= _t)]\n",
    "\t\tm1 = np.mean(v1) if len(v1) > 0 else 0.\n",
    "\t\tw1 = len(v1) / (H * W)\n",
    "\t\tsigma = w0 * w1 * ((m0 - m1) ** 2)\n",
    "\t\tif sigma > max_sigma:\n",
    "\t\t\tmax_sigma = sigma\n",
    "\t\t\tmax_t = _t\n",
    "\n",
    "\t# Binarization\n",
    "\tprint(\"threshold >>\", max_t)\n",
    "\tth = max_t\n",
    "\tout[out < th] = 0\n",
    "\tout[out >= th] = 255\n",
    "\n",
    "\treturn out\n",
    "\n",
    "def Morphology_Dilate(img):\n",
    "    H, W = img.shape\n",
    "    \n",
    "    # zero padding\n",
    "    _img = np.zeros((H+2, W+2), dtype=np.float32)\n",
    "    \n",
    "    \n",
    "    # preparing filter\n",
    "    K = [[0.,1.,0.],[1.,0.,1.],[0.,1.,0.]]\n",
    "    \n",
    "    # Morphology\n",
    "    for y in range(H):\n",
    "        for x in range(W):\n",
    "            if np.sum(K*tmp[y:y+3, x:x+3])>=255:\n",
    "                out[y, x] = 255\n",
    "    \n",
    "    out = out.astype(np.uint8)\n",
    "    \n",
    "    return out\n",
    "\n",
    "\n",
    "def Morphology_Erode(img, Erode_time=1):\n",
    "    H, W = img.shape\n",
    "    out = img.copy()\n",
    "    \n",
    "    # kernel\n",
    "    MF = np.array(((0,1,0), (1, 0,1),(0,1,0)), dtype=np.int)\n",
    "    \n",
    "    # each erode\n",
    "    for i in range(Erode_time):\n",
    "        tmp = np.pad(out, (1,1), 'edge')\n",
    "        # erode\n",
    "        for y in range(1, 1+H):\n",
    "            for x in range(1, 1+W):\n",
    "                if np.sum(MF*tmp[y-1:y+2, x-1:x+2]) < 255*4:\n",
    "                    out[y-1, x-1] = 0\n",
    "                    \n",
    "    out = out.astype(np.uint8)\n",
    "    \n",
    "    return out\n",
    "    "
   ]
  },
  {
   "cell_type": "code",
   "execution_count": 9,
   "metadata": {},
   "outputs": [
    {
     "name": "stdout",
     "output_type": "stream",
     "text": [
      "threshold >> 127\n"
     ]
    },
    {
     "data": {
      "text/plain": [
       "True"
      ]
     },
     "execution_count": 9,
     "metadata": {},
     "output_type": "execute_result"
    },
    {
     "data": {
      "image/png": "[encoded data removed]",
      "text/plain": [
       "<Figure size 432x288 with 1 Axes>"
      ]
     },
     "metadata": {
      "needs_background": "light"
     },
     "output_type": "display_data"
    }
   ],
   "source": [
    "# Read image\n",
    "img = cv2.imread(\"../imori.jpg\").astype(np.float32)\n",
    "\n",
    "gray = BGR2GRAY(img)\n",
    "binary = otsu_binarization(gray)\n",
    "out = Morphology_Erode(binary, 2)  # 2回やるのを忘れずに\n",
    "\n",
    "# Save result\n",
    "#plt.figure(figsize=(10, 20))\n",
    "plt.imshow(out, cmap='gray')\n",
    "\n",
    "cv2.imwrite('out48.jpg', out)"
   ]
  },
  {
   "cell_type": "code",
   "execution_count": null,
   "metadata": {},
   "outputs": [],
   "source": []
  }
 ],
 "metadata": {
  "kernelspec": {
   "display_name": "Python 3",
   "language": "python",
   "name": "python3"
  },
  "language_info": {
   "codemirror_mode": {
    "name": "ipython",
    "version": 3
   },
   "file_extension": ".py",
   "mimetype": "text/x-python",
   "name": "python",
   "nbconvert_exporter": "python",
   "pygments_lexer": "ipython3",
   "version": "3.8.2"
  }
 },
 "nbformat": 4,
 "nbformat_minor": 4
}
