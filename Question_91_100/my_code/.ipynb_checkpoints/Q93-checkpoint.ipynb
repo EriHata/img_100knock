{
 "cells": [
  {
   "cell_type": "markdown",
   "metadata": {},
   "source": [
    "### 機械学習の学習データの用意 (Step.1) IoUの計算"
   ]
  },
  {
   "cell_type": "code",
   "execution_count": null,
   "metadata": {},
   "outputs": [],
   "source": [
    "import numpy as np\n",
    "\n",
    "# get IoU overlap ratio\n",
    "def iou(a,b):\n",
    "    # get area of a\n",
    "    area_a = (a[2]-a[0])*(a[3]- a[1])  # これは座標？\n",
    "    # get_area of b\n",
    "    area_b = (b[2] - b[0])*(b[3] - b[1])\n",
    "    \n",
    "    # get left top of IoU\n",
    "    iou_x1 = np.maximum(a[0], b[0])  # x座標が大きい方\n",
    "    iou_y1 = np.maximum(a[1], b[1])  # y座標が大きい方\n",
    "    iou_x2 = np.minimum(a[2], b[2])  # x座標が小さい方\n",
    "    iou_y2 = np.minimum(a[3], b[3])  # y座標が小さい方\n",
    "    \n",
    "    # get width of iou\n",
    "    iou_w = np.m"
   ]
  },
  {
   "cell_type": "code",
   "execution_count": null,
   "metadata": {},
   "outputs": [],
   "source": []
  }
 ],
 "metadata": {
  "kernelspec": {
   "display_name": "Python 3",
   "language": "python",
   "name": "python3"
  },
  "language_info": {
   "codemirror_mode": {
    "name": "ipython",
    "version": 3
   },
   "file_extension": ".py",
   "mimetype": "text/x-python",
   "name": "python",
   "nbconvert_exporter": "python",
   "pygments_lexer": "ipython3",
   "version": "3.8.2"
  }
 },
 "nbformat": 4,
 "nbformat_minor": 4
}
