{
 "cells": [
  {
   "cell_type": "markdown",
   "metadata": {},
   "source": [
    "### 機械学習の学習データの用意 (Step.1) IoUの計算"
   ]
  },
  {
   "cell_type": "code",
   "execution_count": 3,
   "metadata": {},
   "outputs": [
    {
     "name": "stdout",
     "output_type": "stream",
     "text": [
      "90.0\n",
      "90.0\n",
      "0.627907\n"
     ]
    }
   ],
   "source": [
    "import numpy as np\n",
    "\n",
    "# get IoU overlap ratio\n",
    "def iou(a,b):\n",
    "    # get area of a\n",
    "    area_a = (a[2]-a[0])*(a[3]- a[1])  # これは座標？\n",
    "    # get_area of b\n",
    "    area_b = (b[2] - b[0])*(b[3] - b[1])\n",
    "    \n",
    "    # get left top of IoU\n",
    "    iou_x1 = np.maximum(a[0], b[0])  # x座標が大きい方\n",
    "    iou_y1 = np.maximum(a[1], b[1])  # y座標が大きい方\n",
    "    iou_x2 = np.minimum(a[2], b[2])  # x座標が小さい方\n",
    "    iou_y2 = np.minimum(a[3], b[3])  # y座標が小さい方\n",
    "    \n",
    "    # get width of iou\n",
    "    iou_w = iou_x2 - iou_x1\n",
    "    iou_h = iou_y2 - iou_y1\n",
    "    print(iou_w)\n",
    "    print(iou_h)\n",
    "    \n",
    "    # no overlap\n",
    "    # 重なっている部分がないとき\n",
    "    if iou_w < 0 or iou_h < 0:\n",
    "        return 0.0\n",
    "    \n",
    "    # get area of iou\n",
    "    area_iou = iou_w*iou_h\n",
    "    # get overlap ratio between iou and all area\n",
    "    # ベン図書いてみるとわかりやすい\n",
    "    iou = area_iou / (area_a + area_b - area_iou)\n",
    "    \n",
    "    return iou\n",
    "\n",
    "# [x1,x2, y1,y2]\n",
    "a = np.array((50,50,150,150), dtype=np.float32)\n",
    "b = np.array((60,60,170,160), dtype=np.float32)\n",
    "\n",
    "print(iou(a,b))"
   ]
  },
  {
   "cell_type": "code",
   "execution_count": null,
   "metadata": {},
   "outputs": [],
   "source": []
  }
 ],
 "metadata": {
  "kernelspec": {
   "display_name": "Python 3",
   "language": "python",
   "name": "python3"
  },
  "language_info": {
   "codemirror_mode": {
    "name": "ipython",
    "version": 3
   },
   "file_extension": ".py",
   "mimetype": "text/x-python",
   "name": "python",
   "nbconvert_exporter": "python",
   "pygments_lexer": "ipython3",
   "version": "3.8.2"
  }
 },
 "nbformat": 4,
 "nbformat_minor": 4
}
