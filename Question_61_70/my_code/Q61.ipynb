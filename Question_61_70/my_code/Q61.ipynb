{
 "cells": [
  {
   "cell_type": "markdown",
   "metadata": {},
   "source": [
    "## 4-連結数"
   ]
  },
  {
   "cell_type": "code",
   "execution_count": 14,
   "metadata": {},
   "outputs": [],
   "source": [
    "import cv2\n",
    "import numpy as np\n",
    "import matplotlib.pyplot as plt\n",
    "%matplotlib inline\n",
    "\n",
    "# connect4\n",
    "def connect_4(img):\n",
    "    H, W, C = img.shape\n",
    "    \n",
    "    # prepare temporary image\n",
    "    tmp = np.zeros((H,W), dtype=np.int)\n",
    "    \n",
    "    # binarize\n",
    "    tmp[img[...,0]>0] = 1\n",
    "    \n",
    "    # prepare out image\n",
    "    out = np.zeros((H, W, 3), dtype=np.uint8)\n",
    "    \n",
    "    # each pixel\n",
    "    for y in range(H):\n",
    "        for x in range(W):\n",
    "            if tmp[y,x] < 1:\n",
    "                continue\n",
    "            \n",
    "            S = 0\n",
    "            S += (tmp[y, min(x+1, W-1)] - tmp[y, min(x+1, W-1)]*tmp[max(y-1,0), min(x+1, W-1)]*tmp[max(y-1, 0), x])\n",
    "            S += (tmp[max(y-1, 0), x] - tmp[max(y-1, 0), x]*tmp[max(y-1, 0), max(x-1, 0)]*tmp[y, max(x-1, 0)])\n",
    "            S += (tmp[y, max(x-1, 0)] - tmp[y, max(x-1, 0)]*tmp[min(y+1, H-1), max(x-1, 0)]*tmp[min(y+1, H-1), x])\n",
    "            S += (tmp[min(y+1, H-1), x] - tmp[min(y+1, H-1), x]*tmp[min(y+1, H-1), min(x+1, W-1)]*tmp[y, min(x+1, W-1)])\n",
    "            \n",
    "            if S == 0:\n",
    "                out[y,x] = [0,0,255]  # blue\n",
    "            elif S == 1:\n",
    "                out[y,x] = [0,255,0]  # green\n",
    "            elif S == 2:\n",
    "                out[y,x] = [255,0,0]  # red\n",
    "                #print('S=2')\n",
    "            elif S == 3:\n",
    "                out[y,x] = [255,255,0]  # yellow\n",
    "                #print('S=3')\n",
    "            elif S == 4:\n",
    "                out[y,x] = [255,0,255]  # pink?\n",
    "                print('S=4')\n",
    "                \n",
    "    out = out.astype(np.uint8)\n",
    "    \n",
    "    return out\n",
    "\n"
   ]
  },
  {
   "cell_type": "code",
   "execution_count": 15,
   "metadata": {},
   "outputs": [
    {
     "data": {
      "text/plain": [
       "True"
      ]
     },
     "execution_count": 15,
     "metadata": {},
     "output_type": "execute_result"
    },
    {
     "data": {
      "image/png": "[encoded data removed]",
      "text/plain": [
       "<Figure size 432x288 with 2 Axes>"
      ]
     },
     "metadata": {
      "needs_background": "light"
     },
     "output_type": "display_data"
    }
   ],
   "source": [
    "# Read image\n",
    "img = cv2.imread(\"../renketsu.png\").astype(np.uint8)\n",
    "plt.subplot(2, 1, 1)\n",
    "plt.imshow(img)\n",
    "\n",
    "out = connect_4(img)\n",
    "\n",
    "# Save result\n",
    "plt.subplot(2, 1, 2)\n",
    "plt.imshow(out)\n",
    "cv2.imwrite(\"out61.png\", out)\n"
   ]
  },
  {
   "cell_type": "code",
   "execution_count": null,
   "metadata": {},
   "outputs": [],
   "source": []
  }
 ],
 "metadata": {
  "kernelspec": {
   "display_name": "Python 3",
   "language": "python",
   "name": "python3"
  },
  "language_info": {
   "codemirror_mode": {
    "name": "ipython",
    "version": 3
   },
   "file_extension": ".py",
   "mimetype": "text/x-python",
   "name": "python",
   "nbconvert_exporter": "python",
   "pygments_lexer": "ipython3",
   "version": "3.8.2"
  }
 },
 "nbformat": 4,
 "nbformat_minor": 4
}
