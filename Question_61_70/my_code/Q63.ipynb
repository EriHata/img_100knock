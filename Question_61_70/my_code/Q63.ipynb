{
 "cells": [
  {
   "cell_type": "markdown",
   "metadata": {},
   "source": [
    "## 細線化処理"
   ]
  },
  {
   "cell_type": "code",
   "execution_count": 6,
   "metadata": {},
   "outputs": [],
   "source": [
    "import cv2\n",
    "import numpy as  np\n",
    "import matplotlib.pyplot as plt\n",
    "%matplotlib inline\n",
    "\n",
    "def thining(img):\n",
    "    H, W, C = img.shape\n",
    "    \n",
    "    nn4 = [[0,1,0], [1,0,1], [0,1,0]]\n",
    "    nn8 = [[1,1,1],[1,0,1], [1,1,1]]\n",
    "    \n",
    "    # prepare out image\n",
    "    out = np.zeros((H, W), dtype=np.int)\n",
    "    out[img[...,0]>1] = 1  \n",
    "    \n",
    "    count = 1\n",
    "    while count > 0:\n",
    "        count = 0\n",
    "        tmp = out.copy()  \n",
    "        \n",
    "        # each pixel (rasta scan)\n",
    "        for y in range(H):\n",
    "            for x in range(W):\n",
    "                if tmp[y,x] == 0:\n",
    "                    continue\n",
    "                # count satisfied conditions\n",
    "                judge = 0\n",
    "                \n",
    "                # condition 1\n",
    "                if (tmp[y, min(x+1, W-1)] + tmp[max(y-1, 0), x] + tmp[y, max(x-1, 0)] + tmp[min(y+1, H-1), x]) < 4:\n",
    "                    judge += 1\n",
    "                    \n",
    "                # condition2\n",
    "                S = 0\n",
    "                S += (tmp[y, min(x+1, W-1)] - tmp[y, min(x+1, W-1)]*tmp[max(y-1,0), min(x+1, W-1)]*tmp[max(y-1, 0), x])\n",
    "                S += (tmp[max(y-1, 0), x] - tmp[max(y-1, 0), x]*tmp[max(y-1, 0), max(x-1, 0)]*tmp[y, max(x-1, 0)])\n",
    "                S += (tmp[y, max(x-1, 0)] - tmp[y, max(x-1, 0)]*tmp[min(y+1, H-1), max(x-1, 0)]*tmp[min(y+1, H-1), x])\n",
    "                S += (tmp[min(y+1, H-1), x] - tmp[min(y+1, H-1), x]*tmp[min(y+1, H-1), min(x+1, W-1)]*tmp[y, min(x+1, W-1)])\n",
    "                if S == 1:\n",
    "                    judge += 1\n",
    "                    \n",
    "                # condition3\n",
    "                if np.sum(tmp[max(y-1,0):min(y+2, H), max(x-1, 0):min(x+2, W)]) >= 4:  # これでOK\n",
    "                    judge += 1\n",
    "                    \n",
    "                # if all conditions are satisfied\n",
    "                if judge == 3:\n",
    "                    out[y,x] = 0\n",
    "                    count += 1\n",
    "                    \n",
    "    out = out.astype(np.uint8)*255  # 白黒にするために*255\n",
    "    \n",
    "    return out\n",
    "\n",
    "                "
   ]
  },
  {
   "cell_type": "code",
   "execution_count": 7,
   "metadata": {},
   "outputs": [
    {
     "data": {
      "text/plain": [
       "True"
      ]
     },
     "execution_count": 7,
     "metadata": {},
     "output_type": "execute_result"
    },
    {
     "data": {
      "image/png": "[encoded data removed]",
      "text/plain": [
       "<Figure size 432x288 with 2 Axes>"
      ]
     },
     "metadata": {
      "needs_background": "light"
     },
     "output_type": "display_data"
    }
   ],
   "source": [
    "img = cv2.imread('../gazo.png').astype(np.int)\n",
    "plt.subplot(2,1,1)\n",
    "plt.imshow(img)\n",
    "\n",
    "out = thining(img)\n",
    "plt.subplot(2,1,2)\n",
    "plt.imshow(out, cmap='gray')\n",
    "\n",
    "cv2.imwrite('out63.jpg', out)"
   ]
  },
  {
   "cell_type": "code",
   "execution_count": null,
   "metadata": {},
   "outputs": [],
   "source": []
  }
 ],
 "metadata": {
  "kernelspec": {
   "display_name": "Python 3",
   "language": "python",
   "name": "python3"
  },
  "language_info": {
   "codemirror_mode": {
    "name": "ipython",
    "version": 3
   },
   "file_extension": ".py",
   "mimetype": "text/x-python",
   "name": "python",
   "nbconvert_exporter": "python",
   "pygments_lexer": "ipython3",
   "version": "3.8.2"
  }
 },
 "nbformat": 4,
 "nbformat_minor": 4
}
