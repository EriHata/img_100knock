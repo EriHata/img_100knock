{
 "cells": [
  {
   "cell_type": "markdown",
   "metadata": {},
   "source": [
    "### HOG (Step.2) 勾配ヒストグラム"
   ]
  },
  {
   "cell_type": "code",
   "execution_count": 17,
   "metadata": {},
   "outputs": [],
   "source": [
    "import cv2\n",
    "import numpy as np\n",
    "import matplotlib.pyplot as plt\n",
    "%matplotlib inline\n",
    "\n",
    "# get HOG step2\n",
    "def HOG_step2(img):\n",
    "    # gray scale\n",
    "    def BGR2GRAY(img):\n",
    "        gray =  0.2126 * img[..., 2] + 0.7152 * img[..., 1] + 0.0722 * img[..., 0]\n",
    "        return gray\n",
    "    \n",
    "    # gx, gy\n",
    "    def get_gradXY(gray):\n",
    "        H,W = gray.shape\n",
    "        \n",
    "\n",
    "        gray = np.pad(gray, (1,1), 'edge')\n",
    "\n",
    "        gx = gray[1:1+H, 2:] - gray[1:1+H, :W]\n",
    "        gy = gray[2:, 1:1+W] - gray[:H, 1:1+W]\n",
    "        gx[gx==0] = 1e-6\n",
    "        \n",
    "        return gx, gy\n",
    "    \n",
    "    \n",
    "    \n",
    "    \n",
    "    # magunitude and angle\n",
    "    def get_MagGrad(gx, gy):\n",
    "        magunitude = np.sqrt(gx**2+gy**2)\n",
    "        gradient = np.arctan(gy/gx)\n",
    "        \n",
    "        #gradient[gradient < 0] = np.pi/2 + gradient[gradient<0] +np.pi/2\n",
    "        gradient[gradient < 0] = np.pi + gradient[gradient<0]\n",
    "        \n",
    "        return magunitude, gradient\n",
    "    \n",
    "    # quantization\n",
    "    def quantization(gradient):\n",
    "        # prepare quantization table\n",
    "        gradient_quantized = np.zeros_like(gradient, dtype=np.int)\n",
    "        \n",
    "        # quantization base\n",
    "        d = np.pi/9\n",
    "        \n",
    "        # quantization\n",
    "        for i in range(9):\n",
    "            gradient_quantized[np.where((gradient>=d*i)&(gradient<=d*(i+1)))] = i\n",
    "            # これは両端気にしなくていいのか？\n",
    "            \n",
    "        return gradient_quantized\n",
    "    \n",
    "    # get gradient histogram\n",
    "    def gradient_histogram(gradient_quantized, magunitude, N=8):\n",
    "        # get shape\n",
    "        H,W = magunitude.shape\n",
    "        \n",
    "        # get cell num\n",
    "        cell_N_H = H//N\n",
    "        cell_N_W = W//N\n",
    "        histogram = np.zeros((cell_N_H, cell_N_W,9), dtype=np.float32)\n",
    "        \n",
    "        # each pixel\n",
    "        for y in range(cell_N_H):\n",
    "            for x in range(cell_N_W):\n",
    "                for j in range(N):\n",
    "                    for i in range(N):\n",
    "                        # ？？？\n",
    "                        histogram[y, x, gradient_quantized[y*8+j, x*8+i]] += magunitude[y*8+j, x*8+i]\n",
    "        \n",
    "        return histogram\n",
    "    \n",
    "    \n",
    "    gray = BGR2GRAY(img)\n",
    "    gx, gy = get_gradXY(gray)\n",
    "    magunitude, gradient = get_MagGrad(gx, gy)\n",
    "    gradient_quantized = quantization(gradient)\n",
    "    histgram = gradient_histogram(gradient_quantized, magunitude)\n",
    "    \n",
    "    return histgram\n"
   ]
  },
  {
   "cell_type": "code",
   "execution_count": 18,
   "metadata": {},
   "outputs": [
    {
     "name": "stdout",
     "output_type": "stream",
     "text": [
      "<class 'numpy.ndarray'>\n"
     ]
    },
    {
     "data": {
      "image/png": "[encoded data removed]",
      "text/plain": [
       "<Figure size 432x288 with 9 Axes>"
      ]
     },
     "metadata": {
      "needs_background": "light"
     },
     "output_type": "display_data"
    }
   ],
   "source": [
    "img = cv2.imread('../imori.jpg').astype(np.float32)\n",
    "histogram = HOG_step2(img)\n",
    "\n",
    "print(type(histogram))\n",
    "# write histogram to file\n",
    "for i in range(9):\n",
    "    plt.subplot(3,3,i+1)\n",
    "    plt.imshow(histogram[...,i])\n",
    "    plt.title(f'histogram {i}')\n",
    "    plt.axis('off')\n",
    "    plt.xticks(color=\"None\")\n",
    "    plt.yticks(color=\"None\")\n",
    "plt.tight_layout()    \n",
    "plt.savefig('out67.png')\n",
    "plt.show()"
   ]
  },
  {
   "cell_type": "code",
   "execution_count": null,
   "metadata": {},
   "outputs": [],
   "source": []
  }
 ],
 "metadata": {
  "kernelspec": {
   "display_name": "Python 3",
   "language": "python",
   "name": "python3"
  },
  "language_info": {
   "codemirror_mode": {
    "name": "ipython",
    "version": 3
   },
   "file_extension": ".py",
   "mimetype": "text/x-python",
   "name": "python",
   "nbconvert_exporter": "python",
   "pygments_lexer": "ipython3",
   "version": "3.8.2"
  }
 },
 "nbformat": 4,
 "nbformat_minor": 4
}
