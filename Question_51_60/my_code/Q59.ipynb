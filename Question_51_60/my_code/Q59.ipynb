{
 "cells": [
  {
   "cell_type": "markdown",
   "metadata": {},
   "source": [
    "## ラベリング 8近傍"
   ]
  },
  {
   "cell_type": "code",
   "execution_count": 1,
   "metadata": {},
   "outputs": [],
   "source": [
    "import cv2\n",
    "import numpy as np\n",
    "import matplotlib.pyplot as plt\n",
    "%matplotlib inline\n",
    "\n",
    "# labeling 4 nearest neighbor\n",
    "def labeling_4nn(img):\n",
    "    H,W,C = img.shape\n",
    "    \n",
    "    # prepare label temporary image\n",
    "    label = np.zeros((H, W), dtype=np.int)\n",
    "    label[img[..., 0]>0] = 1  # 画像で黒じゃないところはラベルを１にしておく\n",
    "    \n",
    "    # look up table\n",
    "    LUT = [0 for _ in range(H*W)]  # H*W=60000\n",
    "    \n",
    "    n = 1\n",
    "    \n",
    "    for y in range(H):\n",
    "        for x in range(W):\n",
    "            # skip black pixel\n",
    "            # labelが０なら何もしない\n",
    "            if label[y,x] == 0:\n",
    "                continue\n",
    "            # get right top pixel\n",
    "            c2 = label[max(y-1, 0), min(x+1, W-1)]\n",
    "            # get above pixel\n",
    "            c3 = label[max(y-1, 0), x]\n",
    "            # get left top pixel\n",
    "            c4 = label[max(y-1, 0), max(x-1, 0)]\n",
    "            # get left pixel\n",
    "            c5 = label[y, max(x-1, 0)]\n",
    "            \n",
    "            # if not labeled\n",
    "            if c2 < 2 and c3 < 2 and c4 < 2 and c5 < 2 : \n",
    "                # labeling\n",
    "                n += 1\n",
    "                label[y,x] = n\n",
    "            else:\n",
    "                # replace min lable index\n",
    "                _vs = [c2, c3, c4, c5]  # 右上、上、左上と左のラベルを格納\n",
    "                vs = [a for a in _vs if a > 1]  # ラベルが１より大きいもの（ラベルが付けられている）をvsに格納する\n",
    "                v = min(vs)   # vsの中で最小のものをvに格納\n",
    "                label[y,x] = v\n",
    "                # label[y, x]のラベルをvにする\n",
    "                \n",
    "                minv = v\n",
    "                for _v in vs:  # 2以上のラベル\n",
    "                    if LUT[_v] != 0:\n",
    "                        minv = min(minv, LUT[_v])\n",
    "                for _v in vs:\n",
    "                    LUT[_v] = minv\n",
    "                \n",
    "    # ここのインシデント間違ってた            \n",
    "    count = 1\n",
    "        \n",
    "    # integrate index of look up table\n",
    "    for l in range(2, n+1):\n",
    "        flag = True\n",
    "        for i in range(n+1):\n",
    "            if LUT[i] == l:\n",
    "                if flag:\n",
    "                    count += 1\n",
    "                    flag = False\n",
    "                LUT[i] = count\n",
    "        # draw color\n",
    "    COLORS = [[0, 0, 255], [0, 255, 0], [255, 0, 0], [255, 255, 0]]\n",
    "    out = np.zeros((H, W, C), dtype=np.uint8)\n",
    "\n",
    "    for i, lut in enumerate(LUT[2:]):\n",
    "        out[label == (i+2)] = COLORS[lut-2]\n",
    "\n",
    "    return out\n",
    "            \n",
    "\n",
    "    "
   ]
  },
  {
   "cell_type": "code",
   "execution_count": 2,
   "metadata": {},
   "outputs": [
    {
     "name": "stderr",
     "output_type": "stream",
     "text": [
      "Clipping input data to the valid range for imshow with RGB data ([0..1] for floats or [0..255] for integers).\n"
     ]
    },
    {
     "name": "stdout",
     "output_type": "stream",
     "text": [
      "(200, 300, 3)\n"
     ]
    },
    {
     "data": {
      "text/plain": [
       "True"
      ]
     },
     "execution_count": 2,
     "metadata": {},
     "output_type": "execute_result"
    },
    {
     "data": {
      "image/png": "[encoded data removed]",
      "text/plain": [
       "<Figure size 432x288 with 2 Axes>"
      ]
     },
     "metadata": {
      "needs_background": "light"
     },
     "output_type": "display_data"
    }
   ],
   "source": [
    "# Read image\n",
    "img = cv2.imread(\"../seg.png\").astype(np.float32)\n",
    "plt.subplot(2, 1, 1)\n",
    "print(img.shape)\n",
    "plt.imshow(img)\n",
    "# labeling 4 nearest neighbor\n",
    "out = labeling_4nn(img)\n",
    "\n",
    "# Save result\n",
    "plt.subplot(2, 1, 2)\n",
    "plt.imshow(out)\n",
    "cv2.imwrite(\"out58.png\", out)\n"
   ]
  },
  {
   "cell_type": "code",
   "execution_count": null,
   "metadata": {},
   "outputs": [],
   "source": []
  }
 ],
 "metadata": {
  "kernelspec": {
   "display_name": "Python 3",
   "language": "python",
   "name": "python3"
  },
  "language_info": {
   "codemirror_mode": {
    "name": "ipython",
    "version": 3
   },
   "file_extension": ".py",
   "mimetype": "text/x-python",
   "name": "python",
   "nbconvert_exporter": "python",
   "pygments_lexer": "ipython3",
   "version": "3.8.2"
  }
 },
 "nbformat": 4,
 "nbformat_minor": 4
}
