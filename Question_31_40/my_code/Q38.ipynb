{
 "cells": [
  {
   "cell_type": "markdown",
   "metadata": {},
   "source": [
    "## JPEG圧縮(step.2)DCT+量子化"
   ]
  },
  {
   "cell_type": "code",
   "execution_count": 5,
   "metadata": {},
   "outputs": [
    {
     "name": "stdout",
     "output_type": "stream",
     "text": [
      "MSE : 21124.7109375\n",
      "PSNR: 4.882895859258292\n",
      "BITRATE : 8.0\n"
     ]
    },
    {
     "data": {
      "text/plain": [
       "True"
      ]
     },
     "execution_count": 5,
     "metadata": {},
     "output_type": "execute_result"
    },
    {
     "data": {
      "image/png": "[encoded data removed]",
      "text/plain": [
       "<Figure size 432x288 with 1 Axes>"
      ]
     },
     "metadata": {
      "needs_background": "light"
     },
     "output_type": "display_data"
    }
   ],
   "source": [
    "import cv2\n",
    "import numpy as np\n",
    "import matplotlib.pyplot as plt\n",
    "\n",
    "%matplotlib inline\n",
    "\n",
    "# DCT hypor-parameter\n",
    "T = 8\n",
    "K = 8  # 係数はすべて用いるものとする\n",
    "channel = 3\n",
    "\n",
    "#DCT weight\n",
    "def DCT_w(x, y, u ,v):\n",
    "    cu = 1.\n",
    "    cv = 1.\n",
    "    if u == 0:\n",
    "        cu /= np.sqrt(2)\n",
    "    if v == 0:\n",
    "        cv /= np.sqrt(2)\n",
    "        \n",
    "    theta = np.pi/(2*T)\n",
    "    \n",
    "    return ((2*cu*cv/T) * np.cos((2*x+1)*u*theta) * np.cos((2*y+1)*v*theta))\n",
    "\n",
    "# DCT\n",
    "def dct(img):\n",
    "    H, W, _ = img.shape\n",
    "    F = np.zeros((H, W, channel), dtype=np.float32)\n",
    "    \n",
    "    for c in range(channel):\n",
    "        for yi in range(0, H, T):\n",
    "            for xi in range(0, W, T):\n",
    "                for v in range(T):\n",
    "                    for u in range(T):\n",
    "                        for y in range(T):\n",
    "                            for x in range(T):\n",
    "                                F[v+yi, u+xi, c] += img[y+yi, x+xi, c]*DCT_w(x, y, u, v)\n",
    "                                \n",
    "    return F\n",
    "\n",
    "# IDCT\n",
    "def idct(F):\n",
    "    H, W, _  =F.shape\n",
    "    out = np.zeros((H, W, channel), dtype=np.float32)\n",
    "    \n",
    "    for c in range(channel):\n",
    "        for yi in range(T):\n",
    "            for xi in range(T):\n",
    "                for y in range(T):\n",
    "                    for x in range(T):\n",
    "                        for u in range(K):\n",
    "                            for v in range(K):\n",
    "                                out[y+yi, x+xi, c] +=F[v+yi, u+xi , c]*DCT_w(x, y, u, v)\n",
    "    \n",
    "    out = np.clip(out, 0, 255)\n",
    "    out = np.round(out).astype(np.uint8)\n",
    "    \n",
    "    return out\n",
    "\n",
    "# Quantization\n",
    "def quantization(F):\n",
    "    H, W, _ = F.shape\n",
    "    \n",
    "    # これは量子テーブル？何故この値を使うのか？\n",
    "    Q = np.array(((16, 11, 10, 16, 24, 40, 51, 61), \n",
    "                 (12, 12, 14, 19, 26, 58, 60, 55),\n",
    "                 (14, 13, 16, 24, 40, 57, 69, 56), \n",
    "                  (14, 17, 22, 29, 51, 87, 80, 62), \n",
    "                  (18, 22, 37, 56, 68, 109, 103, 77),\n",
    "                 (24, 35, 55, 64, 81, 104, 113, 92),\n",
    "                 (49, 64, 78, 87, 103, 121, 120, 101), \n",
    "                 (72, 92, 95, 98, 112, 100, 103, 99)), dtype=np.float32)\n",
    "    for ys in range(0, H, T):\n",
    "        for xs in range(0, W, T):\n",
    "            for c in range(channel):\n",
    "                # Qでわって丸めたものにQをかけている\n",
    "                F[ys: ys + T, xs: xs + T, c] =  np.round(F[ys: ys + T, xs: xs + T, c] / Q) * Q\n",
    "\n",
    "                \n",
    "    return F\n",
    "\n",
    "#MSE\n",
    "def MSE(img1, img2):\n",
    "    H, W, _  =img1.shape\n",
    "    mse = np.sum((img1-img2)**2) / (H*W*channel)  # channel忘れがち\n",
    "    return mse\n",
    "\n",
    "#PSNR\n",
    "def PSNR(mse, vmax=255):\n",
    "    mse = 10*np.log10(vmax**2/mse)\n",
    "    return mse\n",
    "\n",
    "def BITRATE():\n",
    "    return 1.*T*K*K/T/T\n",
    "\n",
    "# image read\n",
    "img = cv2.imread('../imori.jpg').astype(np.float32)\n",
    "\n",
    "# DCT\n",
    "F = dct(img)\n",
    "\n",
    "# quantization\n",
    "F = quantization(F)\n",
    "\n",
    "# IDCT\n",
    "out = idct(F)\n",
    "\n",
    "# mse\n",
    "mse = MSE(img, out)\n",
    "\n",
    "# PSNR\n",
    "psnr = PSNR(mse)\n",
    "\n",
    "# bitrate\n",
    "bitrate = BITRATE()\n",
    "\n",
    "print(f'MSE : {mse}')\n",
    "print(f'PSNR: {psnr}')\n",
    "print(f'BITRATE : {bitrate}')\n",
    "\n",
    "plt.imshow(out)\n",
    "cv2.imwrite('out38.jpg', out)"
   ]
  },
  {
   "cell_type": "code",
   "execution_count": null,
   "metadata": {},
   "outputs": [],
   "source": []
  }
 ],
 "metadata": {
  "kernelspec": {
   "display_name": "Python 3",
   "language": "python",
   "name": "python3"
  },
  "language_info": {
   "codemirror_mode": {
    "name": "ipython",
    "version": 3
   },
   "file_extension": ".py",
   "mimetype": "text/x-python",
   "name": "python",
   "nbconvert_exporter": "python",
   "pygments_lexer": "ipython3",
   "version": "3.8.2"
  }
 },
 "nbformat": 4,
 "nbformat_minor": 4
}
