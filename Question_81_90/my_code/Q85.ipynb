{
 "cells": [
  {
   "cell_type": "markdown",
   "metadata": {},
   "source": [
    "### 簡単な画像認識 (Step.2) クラス判別"
   ]
  },
  {
   "cell_type": "code",
   "execution_count": 1,
   "metadata": {},
   "outputs": [
    {
     "name": "stdout",
     "output_type": "stream",
     "text": [
      "../dataset/test_akahara_1.jpg is similar >> ../dataset/train_akahara_3.jpg pred >> akahara\n",
      "../dataset/test_akahara_2.jpg is similar >> ../dataset/train_akahara_1.jpg pred >> akahara\n",
      "../dataset/test_madara_1.jpg is similar >> ../dataset/train_madara_2.jpg pred >> madara\n",
      "../dataset/test_madara_2.jpg is similar >> ../dataset/train_akahara_2.jpg pred >> akahara\n"
     ]
    }
   ],
   "source": [
    "import cv2\n",
    "import numpy as np\n",
    "import matplotlib.pyplot as plt\n",
    "from glob import glob\n",
    "\n",
    "## Dicrease color\n",
    "def dic_color(img):\n",
    "    img //= 63\n",
    "    img = img * 64 + 32\n",
    "    return img\n",
    "\n",
    "## Database\n",
    "def get_DB():\n",
    "    # get image paths\n",
    "    train = glob(\"../dataset/train_*\")\n",
    "    train.sort()\n",
    "\n",
    "    # prepare database\n",
    "    db = np.zeros((len(train), 13), dtype=np.int32)\n",
    "    \n",
    "    # prepare path database\n",
    "    pdb = []\n",
    "\n",
    "    # each image\n",
    "    for i, path in enumerate(train):\n",
    "        img = dic_color(cv2.imread(path))\n",
    "        # get histogram\n",
    "        for j in range(4):\n",
    "            db[i, j] = len(np.where(img[..., 0] == (64 * j + 32))[0])\n",
    "            db[i, j+4] = len(np.where(img[..., 1] == (64 * j + 32))[0])\n",
    "            db[i, j+8] = len(np.where(img[..., 2] == (64 * j + 32))[0])\n",
    "\n",
    "        # get class\n",
    "        if 'akahara' in path:\n",
    "            cls = 0\n",
    "        elif 'madara' in path:\n",
    "            cls = 1\n",
    "\n",
    "        # store class label\n",
    "        db[i, -1] = cls\n",
    "        \n",
    "        # store image path\n",
    "        pdb.append(path)\n",
    "        \n",
    "    return db, pdb\n",
    "\n",
    "# test\n",
    "def test_DB(db, pdb):\n",
    "    # get test image path\n",
    "    test = glob('../dataset/test_*')\n",
    "    test.sort()\n",
    "    \n",
    "    success_num = 0\n",
    "    \n",
    "    # each image\n",
    "    for path in test:\n",
    "        img = dic_color(cv2.imread(path))\n",
    "        \n",
    "        # get histogram\n",
    "        # dbのように全部のデータを保持する必要はなく、1つ１つのhistgramをだしてdbと比較すれば良い\n",
    "        hist = np.zeros(12, dtype=np.int32)\n",
    "        for j in range(4):\n",
    "            hist[j] = len(np.where(img[...,0]==(j*64+32))[0])\n",
    "            hist[j+4] = len(np.where(img[...,1]==(j*64+32))[0])\n",
    "            hist[j+8] = len(np.where(img[...,2]==(j*64+32))[0])\n",
    "            \n",
    "        # get histogram difference\n",
    "        # ブロードキャスト\n",
    "        difs = np.abs(db[:,:12]-hist)\n",
    "        difs = np.sum(difs, axis=1)\n",
    "        \n",
    "        # get argmin difference\n",
    "        pred_i = np.argmin(difs)\n",
    "        \n",
    "        # get prediction label\n",
    "        pred = db[pred_i,-1]\n",
    "        \n",
    "        if pred == 0:\n",
    "            pl = 'akahara'\n",
    "        elif pred == 1:\n",
    "            pl = 'madara'\n",
    "            \n",
    "        print(path, 'is similar >>', pdb[pred_i], 'pred >>', pl)\n",
    "\n",
    "\n",
    "\n",
    "db, pdb = get_DB()\n",
    "test_DB(db, pdb)"
   ]
  },
  {
   "cell_type": "code",
   "execution_count": null,
   "metadata": {},
   "outputs": [],
   "source": []
  }
 ],
 "metadata": {
  "kernelspec": {
   "display_name": "Python 3",
   "language": "python",
   "name": "python3"
  },
  "language_info": {
   "codemirror_mode": {
    "name": "ipython",
    "version": 3
   },
   "file_extension": ".py",
   "mimetype": "text/x-python",
   "name": "python",
   "nbconvert_exporter": "python",
   "pygments_lexer": "ipython3",
   "version": "3.8.2"
  }
 },
 "nbformat": 4,
 "nbformat_minor": 4
}
